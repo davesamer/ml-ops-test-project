{
 "cells": [
  {
   "cell_type": "code",
   "execution_count": 9,
   "metadata": {},
   "outputs": [],
   "source": [
    "import requests\n",
    "import json\n",
    "\n",
    "url = \"http://20.12.48.98:8000/invocations\"\n",
    "headers = {\"Content-Type\": \"application/json\"}\n",
    "\n",
    "data = {\n",
    "    \"dataframe_records\": [\n",
    "        {\"customer_id\": 1, \"credit_score\": 779, \"country\": \"Spain\", \"gender\": \"Female\", \"age\": 34, \"tenure\": 5, \"balance\": 0.0, \"products_number\": 2, \"credit_card\": 0, \"active_member\": 1, \"estimated_salary\": 111676.63},\n",
    "        {\"customer_id\": 445, \"credit_score\": 748, \"country\": \"France\", \"gender\": \"Female\", \"age\": 26, \"tenure\": 1, \"balance\": 77780.29, \"products_number\": 1, \"credit_card\": 0, \"active_member\": 1, \"estimated_salary\": 183049.41},\n",
    "        {\"customer_id\": 9505, \"credit_score\": 651, \"country\": \"France\", \"gender\": \"Male\", \"age\": 28, \"tenure\": 10, \"balance\": 79562.98, \"products_number\": 1, \"credit_card\": 1, \"active_member\": 1, \"estimated_salary\": 74687.37},\n",
    "        {\"customer_id\": 332, \"credit_score\": 663, \"country\": \"Germany\", \"gender\": \"Male\", \"age\": 44, \"tenure\": 2, \"balance\": 117028.6, \"products_number\": 2, \"credit_card\": 0, \"active_member\": 1, \"estimated_salary\": 144680.18},\n",
    "        {\"customer_id\": 4168, \"credit_score\": 1, \"country\": \"France\", \"gender\": \"Male\", \"age\": 37, \"tenure\": 8, \"balance\": 0.0, \"products_number\": 1, \"credit_card\": 1, \"active_member\": 0, \"estimated_salary\": 101834.58}\n",
    "    ]\n",
    "}\n",
    "\n",
    "response = requests.post(url, headers=headers, data=json.dumps(data))\n",
    "\n",
    "print(\"Response Code:\", response.status_code)\n",
    "print(\"Response Data:\", response.json())"
   ]
  },
  {
   "cell_type": "code",
   "execution_count": null,
   "metadata": {},
   "outputs": [],
   "source": []
  },
  {
   "cell_type": "code",
   "execution_count": null,
   "metadata": {},
   "outputs": [],
   "source": []
  }
 ],
 "metadata": {
  "kernelspec": {
   "display_name": "ml_ops_test_env",
   "language": "python",
   "name": "python3"
  },
  "language_info": {
   "codemirror_mode": {
    "name": "ipython",
    "version": 3
   },
   "file_extension": ".py",
   "mimetype": "text/x-python",
   "name": "python",
   "nbconvert_exporter": "python",
   "pygments_lexer": "ipython3",
   "version": "3.9.19"
  }
 },
 "nbformat": 4,
 "nbformat_minor": 2
}
